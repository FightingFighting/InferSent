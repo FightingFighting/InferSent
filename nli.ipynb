{
 "cells": [
  {
   "cell_type": "code",
   "execution_count": 11,
   "id": "540bd0aa",
   "metadata": {},
   "outputs": [],
   "source": [
    "import os\n",
    "from torchtext import data\n",
    "import torch\n",
    "from torchtext.datasets import SNLI\n",
    "from torchtext.vocab import GloVe"
   ]
  },
  {
   "cell_type": "code",
   "execution_count": 12,
   "id": "7debd872",
   "metadata": {},
   "outputs": [
    {
     "name": "stderr",
     "output_type": "stream",
     "text": [
      "/opt/conda/envs/infersent/lib/python3.6/site-packages/torchtext/data/field.py:150: UserWarning: Field class will be retired soon and moved to torchtext.legacy. Please see the most recent release notes for further information.\n",
      "  warnings.warn('{} class will be retired soon and moved to torchtext.legacy. Please see the most recent release notes for further information.'.format(self.__class__.__name__), UserWarning)\n",
      "/opt/conda/envs/infersent/lib/python3.6/site-packages/torchtext/data/example.py:13: UserWarning: Example class will be retired soon and moved to torchtext.legacy. Please see the most recent release notes for further information.\n",
      "  warnings.warn('Example class will be retired soon and moved to torchtext.legacy. Please see the most recent release notes for further information.', UserWarning)\n"
     ]
    }
   ],
   "source": [
    "# build dataset and word embedding\n",
    "glove = GloVe(name='840B', dim=300, cache=\"./dataset/.vector_cache\")\n",
    "device = torch.device(\"cuda\" if torch.cuda.is_available() else \"cpu\")\n",
    "\n",
    "#set up fields\n",
    "text_field = data.Field(tokenize='spacy',tokenizer_language=\"en_core_web_sm\",\n",
    "                        lower=True,include_lengths=True,batch_first=True)\n",
    "label_field = data.Field(sequential=False)\n",
    "\n",
    "train, val, test = SNLI.splits(text_field, label_field, root=\"./dataset/.data\")\n",
    "\n",
    "# build vocab\n",
    "text_field.build_vocab(train, vectors=glove)\n",
    "label_field.build_vocab(train)\n",
    "vocabulary_label = label_field.vocab.itos"
   ]
  },
  {
   "cell_type": "code",
   "execution_count": 13,
   "id": "d67867d7",
   "metadata": {},
   "outputs": [
    {
     "data": {
      "text/plain": [
       "NLINet(\n",
       "  (embedding): Embedding(33635, 300)\n",
       "  (encoder_model): BiLSTM(\n",
       "    (lstm): LSTM(300, 2048, batch_first=True, bidirectional=True)\n",
       "  )\n",
       "  (classifier): Sequential(\n",
       "    (0): Linear(in_features=16384, out_features=512, bias=True)\n",
       "    (1): Linear(in_features=512, out_features=512, bias=True)\n",
       "    (2): Linear(in_features=512, out_features=3, bias=True)\n",
       "  )\n",
       ")"
      ]
     },
     "execution_count": 13,
     "metadata": {},
     "output_type": "execute_result"
    }
   ],
   "source": [
    "#load model\n",
    "Baseline_model_path = os.path.join('./output/Baseline', \"models\", 'best_checkpoint.pkl')\n",
    "NLINet_Baseline_model = torch.load(Baseline_model_path)\n",
    "NLINet_Baseline_model.eval()\n",
    "\n",
    "UniLSTM_model_path = os.path.join('./output/UniLSTM', \"models\", 'best_checkpoint.pkl')\n",
    "NLINet_UniLSTM_model = torch.load(UniLSTM_model_path)\n",
    "NLINet_UniLSTM_model.eval()\n",
    "\n",
    "SimpleBiLSTM_model_path = os.path.join('./output/SimpleBiLSTM', \"models\", 'best_checkpoint.pkl')\n",
    "NLINet_SimpleBiLSTM_model = torch.load(SimpleBiLSTM_model_path)\n",
    "NLINet_SimpleBiLSTM_model.eval()\n",
    "\n",
    "BiLSTM_model_path = os.path.join('./output/BiLSTM', \"models\", 'best_checkpoint.pkl')\n",
    "NLINet_BiLSTM_model = torch.load(BiLSTM_model_path)\n",
    "NLINet_BiLSTM_model.eval()\n"
   ]
  },
  {
   "cell_type": "code",
   "execution_count": 14,
   "id": "19062136",
   "metadata": {},
   "outputs": [],
   "source": [
    "def relation(hypothesis, premise, NLINet_model):\n",
    "    hypothesis = hypothesis.split(\" \")\n",
    "    premise = premise.split(\" \")\n",
    "    if hypothesis[-1][-1:] == \".\":\n",
    "        hypothesis[-1] = hypothesis[-1][0:-1]\n",
    "        hypothesis.append(\".\")\n",
    "    if premise[-1][-1:] == \".\":\n",
    "        premise[-1] = premise[-1][0:-1]\n",
    "        premise.append(\".\")\n",
    "\n",
    "    hypothesis = [hypothesis]\n",
    "    premise = [premise]\n",
    "    hypothesis = text_field.process(hypothesis,device=device)\n",
    "    premise = text_field.process(premise,device=device)\n",
    "    preds = NLINet_model(hypothesis, premise)\n",
    "    preds_argmax = torch.argmax(preds,dim=1)\n",
    "    preds_label = vocabulary_label[preds_argmax+1]\n",
    "    print(preds_label)"
   ]
  },
  {
   "cell_type": "code",
   "execution_count": 15,
   "id": "57682ce9",
   "metadata": {},
   "outputs": [],
   "source": [
    "hypothesis1 = \"a woman is making music.\"\n",
    "premise1 = \"a pregnant lady singing on stage while holding a flag behind her.\"\n",
    "\n",
    "hypothesis2 = \"the boy is wearing safety equipment.\"\n",
    "premise2 = \"a boy is jumping on skateboard in the middle of a red bridge .\"\n",
    "\n",
    "hypothesis3 = \"a skier is away from the rail.\"\n",
    "premise3 = \"a skier slides along a metal rail.\""
   ]
  },
  {
   "cell_type": "code",
   "execution_count": 16,
   "id": "152e94db",
   "metadata": {},
   "outputs": [
    {
     "name": "stdout",
     "output_type": "stream",
     "text": [
      "entailment\n",
      "entailment\n",
      "entailment\n",
      "entailment\n"
     ]
    }
   ],
   "source": [
    "relation(hypothesis1, premise1, NLINet_Baseline_model)\n",
    "relation(hypothesis1, premise1, NLINet_UniLSTM_model)\n",
    "relation(hypothesis1, premise1, NLINet_SimpleBiLSTM_model)\n",
    "relation(hypothesis1, premise1, NLINet_BiLSTM_model)"
   ]
  },
  {
   "cell_type": "code",
   "execution_count": 17,
   "id": "053eb7ab",
   "metadata": {
    "collapsed": false,
    "jupyter": {
     "outputs_hidden": false
    },
    "pycharm": {
     "name": "#%%\n"
    }
   },
   "outputs": [
    {
     "name": "stdout",
     "output_type": "stream",
     "text": [
      "entailment\n",
      "entailment\n",
      "entailment\n",
      "neutral\n"
     ]
    }
   ],
   "source": [
    "relation(hypothesis2, premise2, NLINet_Baseline_model)\n",
    "relation(hypothesis2, premise2, NLINet_UniLSTM_model)\n",
    "relation(hypothesis2, premise2, NLINet_SimpleBiLSTM_model)\n",
    "relation(hypothesis2, premise2, NLINet_BiLSTM_model)"
   ]
  },
  {
   "cell_type": "code",
   "execution_count": 18,
   "id": "ea1fbaac",
   "metadata": {
    "collapsed": false,
    "jupyter": {
     "outputs_hidden": false
    },
    "pycharm": {
     "name": "#%%\n"
    }
   },
   "outputs": [
    {
     "name": "stdout",
     "output_type": "stream",
     "text": [
      "neutral\n",
      "contradiction\n",
      "contradiction\n",
      "contradiction\n"
     ]
    }
   ],
   "source": [
    "relation(hypothesis3, premise3, NLINet_Baseline_model)\n",
    "relation(hypothesis3, premise3, NLINet_UniLSTM_model)\n",
    "relation(hypothesis3, premise3, NLINet_SimpleBiLSTM_model)\n",
    "relation(hypothesis3, premise3, NLINet_BiLSTM_model)\n"
   ]
  }
 ],
 "metadata": {
  "environment": {
   "name": "pytorch-gpu.1-8.m65",
   "type": "gcloud",
   "uri": "gcr.io/deeplearning-platform-release/pytorch-gpu.1-8:m65"
  },
  "kernelspec": {
   "display_name": "Python 3",
   "language": "python",
   "name": "python3"
  },
  "language_info": {
   "codemirror_mode": {
    "name": "ipython",
    "version": 3
   },
   "file_extension": ".py",
   "mimetype": "text/x-python",
   "name": "python",
   "nbconvert_exporter": "python",
   "pygments_lexer": "ipython3",
   "version": "3.6.13"
  }
 },
 "nbformat": 4,
 "nbformat_minor": 5
}
